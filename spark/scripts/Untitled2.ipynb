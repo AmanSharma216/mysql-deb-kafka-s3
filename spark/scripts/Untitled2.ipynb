{
 "cells": [
  {
   "cell_type": "code",
   "execution_count": 1,
   "id": "e7939a20-fba7-411d-aac1-68cf2b02b0e1",
   "metadata": {
    "editable": true,
    "slideshow": {
     "slide_type": ""
    },
    "tags": []
   },
   "outputs": [
    {
     "name": "stdout",
     "output_type": "stream",
     "text": [
      "Starting Spark application\n"
     ]
    },
    {
     "data": {
      "text/html": [
       "<table>\n",
       "<tr><th>ID</th><th>YARN Application ID</th><th>Kind</th><th>State</th><th>Spark UI</th><th>Driver log</th><th>User</th><th>Current session?</th></tr><tr><td>17</td><td>None</td><td>pyspark</td><td>idle</td><td></td><td></td><td>None</td><td>✔</td></tr></table>"
      ],
      "text/plain": [
       "<IPython.core.display.HTML object>"
      ]
     },
     "metadata": {},
     "output_type": "display_data"
    },
    {
     "data": {
      "application/vnd.jupyter.widget-view+json": {
       "model_id": "",
       "version_major": 2,
       "version_minor": 0
      },
      "text/plain": [
       "FloatProgress(value=0.0, bar_style='info', description='Progress:', layout=Layout(height='25px', width='50%'),…"
      ]
     },
     "metadata": {},
     "output_type": "display_data"
    },
    {
     "name": "stdout",
     "output_type": "stream",
     "text": [
      "SparkSession available as 'spark'.\n"
     ]
    },
    {
     "data": {
      "application/vnd.jupyter.widget-view+json": {
       "model_id": "",
       "version_major": 2,
       "version_minor": 0
      },
      "text/plain": [
       "FloatProgress(value=0.0, bar_style='info', description='Progress:', layout=Layout(height='25px', width='50%'),…"
      ]
     },
     "metadata": {},
     "output_type": "display_data"
    },
    {
     "name": "stderr",
     "output_type": "stream",
     "text": [
      "An error was encountered:\n",
      "Cannot run multiple SparkContexts at once; existing SparkContext(app=livy-session-17, master=local) created by __init__ at /tmp/7633275838383001008:600 \n",
      "Traceback (most recent call last):\n",
      "  File \"/home/glue_user/spark/python/pyspark/context.py\", line 195, in __init__\n",
      "    SparkContext._ensure_initialized(self, gateway=gateway, conf=conf)\n",
      "  File \"/home/glue_user/spark/python/pyspark/context.py\", line 438, in _ensure_initialized\n",
      "    raise ValueError(\n",
      "ValueError: Cannot run multiple SparkContexts at once; existing SparkContext(app=livy-session-17, master=local) created by __init__ at /tmp/7633275838383001008:600 \n",
      "\n"
     ]
    }
   ],
   "source": [
    "from pyspark import SparkContext\n",
    "\n",
    "\n",
    "for k, v in spark.sparkContext.getConf().getAll():\n",
    "    print(f\"{k} = {v}\")\n"
   ]
  },
  {
   "cell_type": "code",
   "execution_count": 2,
   "id": "7b230473-c873-41b3-8437-e821435d6e03",
   "metadata": {
    "editable": true,
    "slideshow": {
     "slide_type": ""
    },
    "tags": []
   },
   "outputs": [
    {
     "data": {
      "application/vnd.jupyter.widget-view+json": {
       "model_id": "",
       "version_major": 2,
       "version_minor": 0
      },
      "text/plain": [
       "FloatProgress(value=0.0, bar_style='info', description='Progress:', layout=Layout(height='25px', width='50%'),…"
      ]
     },
     "metadata": {},
     "output_type": "display_data"
    }
   ],
   "source": [
    "from pyspark.sql import SparkSession\n",
    "\n",
    "spark = SparkSession.builder \\\n",
    "    .appName(\"KafkaAvroConsumerNotebook\") \\\n",
    "    .master(\"local[*]\") \\\n",
    "    .getOrCreate()\n",
    "\n",
    "spark.sparkContext.setLogLevel(\"ERROR\")\n",
    "\n",
    "\n"
   ]
  },
  {
   "cell_type": "code",
   "execution_count": 3,
   "id": "8e569697-a315-4f42-bd65-d7c6858623ce",
   "metadata": {
    "editable": true,
    "slideshow": {
     "slide_type": ""
    },
    "tags": []
   },
   "outputs": [
    {
     "data": {
      "application/vnd.jupyter.widget-view+json": {
       "model_id": "",
       "version_major": 2,
       "version_minor": 0
      },
      "text/plain": [
       "FloatProgress(value=0.0, bar_style='info', description='Progress:', layout=Layout(height='25px', width='50%'),…"
      ]
     },
     "metadata": {},
     "output_type": "display_data"
    }
   ],
   "source": [
    "kafka_url = \"broker:29092\"\n",
    "schema_registry_url = \"https://rnung-103-224-144-138.a.free.pinggy.link\"\n",
    "kafka_producer_topic = \"topic_prefix.kafkaDB.users\"\n",
    "schema_registry_subject = f\"{kafka_producer_topic}-value\""
   ]
  },
  {
   "cell_type": "code",
   "execution_count": 1,
   "id": "bac26477-9199-4049-9eea-39322f82651b",
   "metadata": {
    "editable": true,
    "slideshow": {
     "slide_type": ""
    },
    "tags": []
   },
   "outputs": [
    {
     "name": "stdout",
     "output_type": "stream",
     "text": [
      "Starting Spark application\n"
     ]
    },
    {
     "data": {
      "text/html": [
       "<table>\n",
       "<tr><th>ID</th><th>YARN Application ID</th><th>Kind</th><th>State</th><th>Spark UI</th><th>Driver log</th><th>User</th><th>Current session?</th></tr><tr><td>20</td><td>None</td><td>pyspark</td><td>idle</td><td></td><td></td><td>None</td><td>✔</td></tr></table>"
      ],
      "text/plain": [
       "<IPython.core.display.HTML object>"
      ]
     },
     "metadata": {},
     "output_type": "display_data"
    },
    {
     "data": {
      "application/vnd.jupyter.widget-view+json": {
       "model_id": "",
       "version_major": 2,
       "version_minor": 0
      },
      "text/plain": [
       "FloatProgress(value=0.0, bar_style='info', description='Progress:', layout=Layout(height='25px', width='50%'),…"
      ]
     },
     "metadata": {},
     "output_type": "display_data"
    },
    {
     "name": "stdout",
     "output_type": "stream",
     "text": [
      "SparkSession available as 'spark'.\n"
     ]
    },
    {
     "data": {
      "application/vnd.jupyter.widget-view+json": {
       "model_id": "",
       "version_major": 2,
       "version_minor": 0
      },
      "text/plain": [
       "FloatProgress(value=0.0, bar_style='info', description='Progress:', layout=Layout(height='25px', width='50%'),…"
      ]
     },
     "metadata": {},
     "output_type": "display_data"
    },
    {
     "name": "stdout",
     "output_type": "stream",
     "text": [
      "✅ JAR file exists."
     ]
    }
   ],
   "source": [
    "import os\n",
    "\n",
    "path = \"/home/glue_user/spark/jars/commons-pool2-2.11.1.jar\"\n",
    "if os.path.exists(path):\n",
    "    print(\"✅ JAR file exists.\")\n",
    "else:\n",
    "    print(\"❌ JAR file not found.\")\n",
    "\n",
    "\n",
    "# from pyspark.sql.avro.functions import from_avro"
   ]
  },
  {
   "cell_type": "code",
   "execution_count": 5,
   "id": "53187be5-5450-4c13-b5de-fde7886f6217",
   "metadata": {
    "editable": true,
    "slideshow": {
     "slide_type": ""
    },
    "tags": []
   },
   "outputs": [
    {
     "data": {
      "application/vnd.jupyter.widget-view+json": {
       "model_id": "",
       "version_major": 2,
       "version_minor": 0
      },
      "text/plain": [
       "FloatProgress(value=0.0, bar_style='info', description='Progress:', layout=Layout(height='25px', width='50%'),…"
      ]
     },
     "metadata": {},
     "output_type": "display_data"
    },
    {
     "name": "stdout",
     "output_type": "stream",
     "text": [
      "root\n",
      " |-- key: binary (nullable = true)\n",
      " |-- value: binary (nullable = true)\n",
      " |-- topic: string (nullable = true)\n",
      " |-- partition: integer (nullable = true)\n",
      " |-- offset: long (nullable = true)\n",
      " |-- timestamp: timestamp (nullable = true)\n",
      " |-- timestampType: integer (nullable = true)"
     ]
    }
   ],
   "source": [
    "import pyspark.sql.functions as func\n",
    "spark.sparkContext.setLogLevel(\"ERROR\")\n",
    "\n",
    "\n",
    "wikimedia_df = spark \\\n",
    ".readStream\\\n",
    ".format(\"kafka\")\\\n",
    ".option(\"kafka.bootstrap.servers\", kafka_url)\\\n",
    ".option(\"subscribe\", kafka_producer_topic)\\\n",
    ".option(\"startingOffsets\", \"earliest\")\\\n",
    ".option(\"group.id\", \"aman103\")\\\n",
    ".load()\n",
    "wikimedia_df.printSchema()\n",
    "\n",
    "\n"
   ]
  },
  {
   "cell_type": "code",
   "execution_count": 6,
   "id": "ed1c5008-4292-4d0f-954e-e52d3d593ebd",
   "metadata": {
    "editable": true,
    "slideshow": {
     "slide_type": ""
    },
    "tags": []
   },
   "outputs": [
    {
     "data": {
      "application/vnd.jupyter.widget-view+json": {
       "model_id": "",
       "version_major": 2,
       "version_minor": 0
      },
      "text/plain": [
       "FloatProgress(value=0.0, bar_style='info', description='Progress:', layout=Layout(height='25px', width='50%'),…"
      ]
     },
     "metadata": {},
     "output_type": "display_data"
    }
   ],
   "source": [
    "# wikimedia_df.printSchema()\n",
    "wikimedia_df = wikimedia_df.withColumn(\"value_str\", func.col(\"value\").cast(\"string\"))\n",
    "\n",
    "#  get magic byte value\n",
    "wikimedia_df = wikimedia_df.withColumn(\"magicByte\", func.expr(\"substring(value, 1, 1)\"))\n",
    "\n",
    "#  get schema id from value\n",
    "wikimedia_df = wikimedia_df.withColumn(\"valueSchemaId\", func.expr(\"substring(value, 2, 4)\"))\n",
    "\n",
    "# remove first 5 bytes from value\n",
    "wikimedia_df = wikimedia_df.withColumn(\"fixedValue\", func.expr(\"substring(value, 6, length(value)-5)\"))\n",
    "\n",
    "# creating a new df with magicBytes, valueSchemaId & fixedValue\n",
    "wikimedia_value_df = wikimedia_df.select(\"magicByte\", \"valueSchemaId\", \"fixedValue\")\n"
   ]
  },
  {
   "cell_type": "code",
   "execution_count": 7,
   "id": "045c24b8-30e0-460e-a7df-f0274cd8d8a7",
   "metadata": {
    "editable": true,
    "slideshow": {
     "slide_type": ""
    },
    "tags": []
   },
   "outputs": [
    {
     "data": {
      "application/vnd.jupyter.widget-view+json": {
       "model_id": "",
       "version_major": 2,
       "version_minor": 0
      },
      "text/plain": [
       "FloatProgress(value=0.0, bar_style='info', description='Progress:', layout=Layout(height='25px', width='50%'),…"
      ]
     },
     "metadata": {},
     "output_type": "display_data"
    },
    {
     "name": "stderr",
     "output_type": "stream",
     "text": [
      "An error was encountered:\n",
      "Query [id = 1099fb92-5f5a-41e4-ba4e-db0b3f6ee3c8, runId = 30af5d75-a9d8-4863-980f-f394a6490231] terminated with exception: Writing job aborted\n",
      "Traceback (most recent call last):\n",
      "  File \"/home/glue_user/spark/python/pyspark/sql/streaming.py\", line 105, in awaitTermination\n",
      "    return self._jsq.awaitTermination(int(timeout * 1000))\n",
      "  File \"/home/glue_user/spark/python/lib/py4j-0.10.9.5-src.zip/py4j/java_gateway.py\", line 1321, in __call__\n",
      "    return_value = get_return_value(\n",
      "  File \"/home/glue_user/spark/python/pyspark/sql/utils.py\", line 196, in deco\n",
      "    raise converted from None\n",
      "pyspark.sql.utils.StreamingQueryException: Query [id = 1099fb92-5f5a-41e4-ba4e-db0b3f6ee3c8, runId = 30af5d75-a9d8-4863-980f-f394a6490231] terminated with exception: Writing job aborted\n",
      "\n"
     ]
    }
   ],
   "source": [
    "# write to sink(console)\n",
    "## trigger is used for batch interval\n",
    "wikimedia_value_df \\\n",
    ".writeStream \\\n",
    ".format(\"console\") \\\n",
    ".outputMode(\"append\") \\\n",
    ".option(\"truncate\", \"true\") \\\n",
    ".start() \\\n",
    ".awaitTermination(10)"
   ]
  },
  {
   "cell_type": "code",
   "execution_count": null,
   "id": "a5fa1929-8f68-4dd5-a79e-5f38375da48b",
   "metadata": {
    "editable": true,
    "slideshow": {
     "slide_type": ""
    },
    "tags": []
   },
   "outputs": [],
   "source": []
  }
 ],
 "metadata": {
  "kernelspec": {
   "display_name": "PySpark",
   "language": "python",
   "name": "pysparkkernel"
  },
  "language_info": {
   "codemirror_mode": {
    "name": "python",
    "version": 3
   },
   "file_extension": ".py",
   "mimetype": "text/x-python",
   "name": "pyspark",
   "pygments_lexer": "python3"
  }
 },
 "nbformat": 4,
 "nbformat_minor": 5
}
