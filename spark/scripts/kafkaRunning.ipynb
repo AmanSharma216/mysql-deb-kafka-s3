{
 "cells": [
  {
   "cell_type": "code",
   "execution_count": 4,
   "id": "79f41ae4-8212-451e-a6cc-9b3eb8b5a199",
   "metadata": {
    "editable": true,
    "slideshow": {
     "slide_type": ""
    },
    "tags": []
   },
   "outputs": [
    {
     "data": {
      "application/vnd.jupyter.widget-view+json": {
       "model_id": "",
       "version_major": 2,
       "version_minor": 0
      },
      "text/plain": [
       "FloatProgress(value=0.0, bar_style='info', description='Progress:', layout=Layout(height='25px', width='50%'),…"
      ]
     },
     "metadata": {},
     "output_type": "display_data"
    }
   ],
   "source": [
    "from pyspark.sql import SparkSession\n",
    "spark = SparkSession.builder \\\n",
    "    .appName(\"KafkaExample\") \\\n",
    "    .getOrCreate()\n",
    "from kafka import KafkaConsumer\n",
    "import requests\n",
    "from io import BytesIO\n",
    "import json\n",
    "from fastavro import schemaless_reader\n",
    "# Kafka server details\n",
    "bootstrap_servers = 'broker:29092'  # Kafka server\n",
    "topic = 'topic_prefix.kafkaDB.users'  # Kafka topic name\n",
    "group_id = 'kpgroupqq1'  # Consumer group ID\n",
    "schema_registry_url = 'https://rnung-103-224-144-138.a.free.pinggy.link'  # Schema registry URL\n"
   ]
  },
  {
   "cell_type": "code",
   "execution_count": 5,
   "id": "12f96bcc-9abb-4195-907c-dfa00c515a45",
   "metadata": {},
   "outputs": [
    {
     "data": {
      "application/vnd.jupyter.widget-view+json": {
       "model_id": "",
       "version_major": 2,
       "version_minor": 0
      },
      "text/plain": [
       "FloatProgress(value=0.0, bar_style='info', description='Progress:', layout=Layout(height='25px', width='50%'),…"
      ]
     },
     "metadata": {},
     "output_type": "display_data"
    }
   ],
   "source": [
    "def get_schema(schema_id):\n",
    "    url = f\"{schema_registry_url}/schemas/ids/{schema_id}\"\n",
    "    response = requests.get(url)\n",
    "    response.raise_for_status()\n",
    "    return response.json()[\"schema\"]\n",
    "\n",
    "# Initialize Kafka consumer\n",
    "consumer = KafkaConsumer(\n",
    "    topic,\n",
    "    bootstrap_servers=bootstrap_servers,\n",
    "    group_id=group_id,\n",
    "    auto_offset_reset='earliest',\n",
    "    enable_auto_commit=True,\n",
    "    consumer_timeout_ms=10000,\n",
    "    value_deserializer=lambda x: x\n",
    ")\n"
   ]
  },
  {
   "cell_type": "code",
   "execution_count": 6,
   "id": "13196197-842a-4231-b3f3-5703219578e6",
   "metadata": {
    "editable": true,
    "slideshow": {
     "slide_type": ""
    },
    "tags": []
   },
   "outputs": [
    {
     "data": {
      "application/vnd.jupyter.widget-view+json": {
       "model_id": "",
       "version_major": 2,
       "version_minor": 0
      },
      "text/plain": [
       "FloatProgress(value=0.0, bar_style='info', description='Progress:', layout=Layout(height='25px', width='50%'),…"
      ]
     },
     "metadata": {},
     "output_type": "display_data"
    },
    {
     "name": "stdout",
     "output_type": "stream",
     "text": [
      "Received message with raw bytes: b'\\x00\\x00\\x00\\x00\\x03\\x00\\x02\\x02\\x02\\x02'...\n",
      "Schema ID from message: 3\n",
      "Decoded record: {'before': None, 'after': {'id': 1, 'name': 'aman'}, 'source': {'version': '2.7.3.Final', 'connector': 'mysql', 'name': 'topic_prefix', 'ts_ms': 1746162457000, 'snapshot': 'first', 'db': 'kafkaDB', 'sequence': None, 'ts_us': 1746162457000000, 'ts_ns': 1746162457000000000, 'table': 'users', 'server_id': 0, 'gtid': None, 'file': 'mysql-0-bin.000018', 'pos': 424, 'row': 0, 'thread': None, 'query': None}, 'transaction': None, 'op': 'r', 'ts_ms': 1746162457153, 'ts_us': 1746162457153828, 'ts_ns': 1746162457153828784}\n",
      "Received message with raw bytes: b'\\x00\\x00\\x00\\x00\\x03\\x00\\x02\\x02\\x04\\x02'...\n",
      "Schema ID from message: 3\n",
      "Decoded record: {'before': None, 'after': {'id': 2, 'name': 'aman'}, 'source': {'version': '2.7.3.Final', 'connector': 'mysql', 'name': 'topic_prefix', 'ts_ms': 1746162457000, 'snapshot': 'true', 'db': 'kafkaDB', 'sequence': None, 'ts_us': 1746162457000000, 'ts_ns': 1746162457000000000, 'table': 'users', 'server_id': 0, 'gtid': None, 'file': 'mysql-0-bin.000018', 'pos': 424, 'row': 0, 'thread': None, 'query': None}, 'transaction': None, 'op': 'r', 'ts_ms': 1746162457154, 'ts_us': 1746162457154975, 'ts_ns': 1746162457154975376}\n",
      "Received message with raw bytes: b'\\x00\\x00\\x00\\x00\\x03\\x00\\x02\\x02\\x06\\x02'...\n",
      "Schema ID from message: 3\n",
      "Decoded record: {'before': None, 'after': {'id': 3, 'name': 'aman'}, 'source': {'version': '2.7.3.Final', 'connector': 'mysql', 'name': 'topic_prefix', 'ts_ms': 1746162457000, 'snapshot': 'true', 'db': 'kafkaDB', 'sequence': None, 'ts_us': 1746162457000000, 'ts_ns': 1746162457000000000, 'table': 'users', 'server_id': 0, 'gtid': None, 'file': 'mysql-0-bin.000018', 'pos': 424, 'row': 0, 'thread': None, 'query': None}, 'transaction': None, 'op': 'r', 'ts_ms': 1746162457155, 'ts_us': 1746162457155250, 'ts_ns': 1746162457155250995}\n",
      "Received message with raw bytes: b'\\x00\\x00\\x00\\x00\\x03\\x00\\x02\\x02\\x08\\x02'...\n",
      "Schema ID from message: 3\n",
      "Decoded record: {'before': None, 'after': {'id': 4, 'name': 'aman'}, 'source': {'version': '2.7.3.Final', 'connector': 'mysql', 'name': 'topic_prefix', 'ts_ms': 1746162457000, 'snapshot': 'true', 'db': 'kafkaDB', 'sequence': None, 'ts_us': 1746162457000000, 'ts_ns': 1746162457000000000, 'table': 'users', 'server_id': 0, 'gtid': None, 'file': 'mysql-0-bin.000018', 'pos': 424, 'row': 0, 'thread': None, 'query': None}, 'transaction': None, 'op': 'r', 'ts_ms': 1746162457155, 'ts_us': 1746162457155372, 'ts_ns': 1746162457155372573}\n",
      "Received message with raw bytes: b'\\x00\\x00\\x00\\x00\\x03\\x00\\x02\\x02\\n\\x02'...\n",
      "Schema ID from message: 3\n",
      "Decoded record: {'before': None, 'after': {'id': 5, 'name': 'aman'}, 'source': {'version': '2.7.3.Final', 'connector': 'mysql', 'name': 'topic_prefix', 'ts_ms': 1746162457000, 'snapshot': 'true', 'db': 'kafkaDB', 'sequence': None, 'ts_us': 1746162457000000, 'ts_ns': 1746162457000000000, 'table': 'users', 'server_id': 0, 'gtid': None, 'file': 'mysql-0-bin.000018', 'pos': 424, 'row': 0, 'thread': None, 'query': None}, 'transaction': None, 'op': 'r', 'ts_ms': 1746162457155, 'ts_us': 1746162457155477, 'ts_ns': 1746162457155477463}\n",
      "Received message with raw bytes: b'\\x00\\x00\\x00\\x00\\x03\\x00\\x02\\x02\\x0c\\x02'...\n",
      "Schema ID from message: 3\n",
      "Decoded record: {'before': None, 'after': {'id': 6, 'name': 'aman'}, 'source': {'version': '2.7.3.Final', 'connector': 'mysql', 'name': 'topic_prefix', 'ts_ms': 1746162457000, 'snapshot': 'true', 'db': 'kafkaDB', 'sequence': None, 'ts_us': 1746162457000000, 'ts_ns': 1746162457000000000, 'table': 'users', 'server_id': 0, 'gtid': None, 'file': 'mysql-0-bin.000018', 'pos': 424, 'row': 0, 'thread': None, 'query': None}, 'transaction': None, 'op': 'r', 'ts_ms': 1746162457155, 'ts_us': 1746162457155610, 'ts_ns': 1746162457155610407}\n",
      "Received message with raw bytes: b'\\x00\\x00\\x00\\x00\\x03\\x00\\x02\\x02\\x0e\\x02'...\n",
      "Schema ID from message: 3\n",
      "Decoded record: {'before': None, 'after': {'id': 7, 'name': 'aman'}, 'source': {'version': '2.7.3.Final', 'connector': 'mysql', 'name': 'topic_prefix', 'ts_ms': 1746162457000, 'snapshot': 'true', 'db': 'kafkaDB', 'sequence': None, 'ts_us': 1746162457000000, 'ts_ns': 1746162457000000000, 'table': 'users', 'server_id': 0, 'gtid': None, 'file': 'mysql-0-bin.000018', 'pos': 424, 'row': 0, 'thread': None, 'query': None}, 'transaction': None, 'op': 'r', 'ts_ms': 1746162457155, 'ts_us': 1746162457155702, 'ts_ns': 1746162457155702811}\n",
      "Received message with raw bytes: b'\\x00\\x00\\x00\\x00\\x03\\x00\\x02\\x02\\x10\\x02'...\n",
      "Schema ID from message: 3\n",
      "Decoded record: {'before': None, 'after': {'id': 8, 'name': 'aman'}, 'source': {'version': '2.7.3.Final', 'connector': 'mysql', 'name': 'topic_prefix', 'ts_ms': 1746162457000, 'snapshot': 'true', 'db': 'kafkaDB', 'sequence': None, 'ts_us': 1746162457000000, 'ts_ns': 1746162457000000000, 'table': 'users', 'server_id': 0, 'gtid': None, 'file': 'mysql-0-bin.000018', 'pos': 424, 'row': 0, 'thread': None, 'query': None}, 'transaction': None, 'op': 'r', 'ts_ms': 1746162457155, 'ts_us': 1746162457155786, 'ts_ns': 1746162457155786419}\n",
      "Received message with raw bytes: b'\\x00\\x00\\x00\\x00\\x03\\x00\\x02\\x02\\x12\\x02'...\n",
      "Schema ID from message: 3\n",
      "Decoded record: {'before': None, 'after': {'id': 9, 'name': 'aman'}, 'source': {'version': '2.7.3.Final', 'connector': 'mysql', 'name': 'topic_prefix', 'ts_ms': 1746162457000, 'snapshot': 'true', 'db': 'kafkaDB', 'sequence': None, 'ts_us': 1746162457000000, 'ts_ns': 1746162457000000000, 'table': 'users', 'server_id': 0, 'gtid': None, 'file': 'mysql-0-bin.000018', 'pos': 424, 'row': 0, 'thread': None, 'query': None}, 'transaction': None, 'op': 'r', 'ts_ms': 1746162457155, 'ts_us': 1746162457155868, 'ts_ns': 1746162457155868091}\n",
      "Received message with raw bytes: b'\\x00\\x00\\x00\\x00\\x03\\x00\\x02\\x02\\x14\\x02'...\n",
      "Schema ID from message: 3\n",
      "Decoded record: {'before': None, 'after': {'id': 10, 'name': 'aman'}, 'source': {'version': '2.7.3.Final', 'connector': 'mysql', 'name': 'topic_prefix', 'ts_ms': 1746162457000, 'snapshot': 'last', 'db': 'kafkaDB', 'sequence': None, 'ts_us': 1746162457000000, 'ts_ns': 1746162457000000000, 'table': 'users', 'server_id': 0, 'gtid': None, 'file': 'mysql-0-bin.000018', 'pos': 424, 'row': 0, 'thread': None, 'query': None}, 'transaction': None, 'op': 'r', 'ts_ms': 1746162457155, 'ts_us': 1746162457155991, 'ts_ns': 1746162457155991589}"
     ]
    }
   ],
   "source": [
    "for message in consumer:\n",
    "    value_bytes = message.value\n",
    "    print(f\"Received message with raw bytes: {value_bytes[:10]}...\")\n",
    "\n",
    "    if value_bytes[0] != 0:\n",
    "        print(\"Unknown magic byte, not Confluent Avro format\")\n",
    "        continue\n",
    "\n",
    "    # Extract schema ID\n",
    "    schema_id = int.from_bytes(value_bytes[1:5], byteorder='big')\n",
    "    print(f\"Schema ID from message: {schema_id}\")\n",
    "\n",
    "    # Fetch and parse schema\n",
    "    raw_schema = get_schema(schema_id)\n",
    "    parsed_schema = json.loads(raw_schema)  # safe JSON parsing\n",
    "\n",
    "    # Deserialize message\n",
    "    payload = BytesIO(value_bytes[5:])\n",
    "    try:\n",
    "        record = schemaless_reader(payload, parsed_schema)\n",
    "        print(f\"Decoded record: {record}\")\n",
    "    except Exception as e:\n",
    "        print(f\"Error decoding Avro message: {e}\")\n",
    "      "
   ]
  },
  {
   "cell_type": "code",
   "execution_count": 7,
   "id": "a655cf57-606b-4da4-a8f3-1f2968b99871",
   "metadata": {},
   "outputs": [
    {
     "data": {
      "application/vnd.jupyter.widget-view+json": {
       "model_id": "",
       "version_major": 2,
       "version_minor": 0
      },
      "text/plain": [
       "FloatProgress(value=0.0, bar_style='info', description='Progress:', layout=Layout(height='25px', width='50%'),…"
      ]
     },
     "metadata": {},
     "output_type": "display_data"
    }
   ],
   "source": [
    "spark.stop()  "
   ]
  },
  {
   "cell_type": "code",
   "execution_count": null,
   "id": "2e09abf8-74ef-49a6-969b-f1d8c56cdbbc",
   "metadata": {},
   "outputs": [],
   "source": []
  }
 ],
 "metadata": {
  "kernelspec": {
   "display_name": "PySpark",
   "language": "python",
   "name": "pysparkkernel"
  },
  "language_info": {
   "codemirror_mode": {
    "name": "python",
    "version": 3
   },
   "file_extension": ".py",
   "mimetype": "text/x-python",
   "name": "pyspark",
   "pygments_lexer": "python3"
  }
 },
 "nbformat": 4,
 "nbformat_minor": 5
}
